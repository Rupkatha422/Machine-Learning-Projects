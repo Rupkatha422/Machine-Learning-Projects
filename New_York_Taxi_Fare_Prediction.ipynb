{
 "cells": [
  {
   "cell_type": "code",
   "execution_count": 2,
   "id": "c342afbd",
   "metadata": {},
   "outputs": [],
   "source": [
    "import numpy as np, pandas as pd, seaborn as sns\n",
    "import matplotlib.pyplot as plt\n",
    "from sklearn.model_selection import train_test_split\n",
    "from sklearn.linear_model import LinearRegression\n",
    "from sklearn.linear_model import LogisticRegression\n",
    "import warnings\n",
    "warnings.filterwarnings('ignore')"
   ]
  },
  {
   "cell_type": "code",
   "execution_count": 3,
   "id": "8104e1d4",
   "metadata": {},
   "outputs": [],
   "source": [
    "tf = pd.read_csv(\"TaxiFare.csv\")"
   ]
  },
  {
   "cell_type": "code",
   "execution_count": 4,
   "id": "f912670a",
   "metadata": {},
   "outputs": [
    {
     "data": {
      "text/html": [
       "<div>\n",
       "<style scoped>\n",
       "    .dataframe tbody tr th:only-of-type {\n",
       "        vertical-align: middle;\n",
       "    }\n",
       "\n",
       "    .dataframe tbody tr th {\n",
       "        vertical-align: top;\n",
       "    }\n",
       "\n",
       "    .dataframe thead th {\n",
       "        text-align: right;\n",
       "    }\n",
       "</style>\n",
       "<table border=\"1\" class=\"dataframe\">\n",
       "  <thead>\n",
       "    <tr style=\"text-align: right;\">\n",
       "      <th></th>\n",
       "      <th>unique_id</th>\n",
       "      <th>amount</th>\n",
       "      <th>date_time_of_pickup</th>\n",
       "      <th>longitude_of_pickup</th>\n",
       "      <th>latitude_of_pickup</th>\n",
       "      <th>longitude_of_dropoff</th>\n",
       "      <th>latitude_of_dropoff</th>\n",
       "      <th>no_of_passenger</th>\n",
       "    </tr>\n",
       "  </thead>\n",
       "  <tbody>\n",
       "    <tr>\n",
       "      <th>0</th>\n",
       "      <td>26:21.0</td>\n",
       "      <td>4.5</td>\n",
       "      <td>2009-06-15 17:26:21 UTC</td>\n",
       "      <td>-73.844311</td>\n",
       "      <td>40.721319</td>\n",
       "      <td>-73.841610</td>\n",
       "      <td>40.712278</td>\n",
       "      <td>1</td>\n",
       "    </tr>\n",
       "    <tr>\n",
       "      <th>1</th>\n",
       "      <td>52:16.0</td>\n",
       "      <td>16.9</td>\n",
       "      <td>2010-01-05 16:52:16 UTC</td>\n",
       "      <td>-74.016048</td>\n",
       "      <td>40.711303</td>\n",
       "      <td>-73.979268</td>\n",
       "      <td>40.782004</td>\n",
       "      <td>1</td>\n",
       "    </tr>\n",
       "    <tr>\n",
       "      <th>2</th>\n",
       "      <td>35:00.0</td>\n",
       "      <td>5.7</td>\n",
       "      <td>2011-08-18 00:35:00 UTC</td>\n",
       "      <td>-73.982738</td>\n",
       "      <td>40.761270</td>\n",
       "      <td>-73.991242</td>\n",
       "      <td>40.750562</td>\n",
       "      <td>2</td>\n",
       "    </tr>\n",
       "    <tr>\n",
       "      <th>3</th>\n",
       "      <td>30:42.0</td>\n",
       "      <td>7.7</td>\n",
       "      <td>2012-04-21 04:30:42 UTC</td>\n",
       "      <td>-73.987130</td>\n",
       "      <td>40.733143</td>\n",
       "      <td>-73.991567</td>\n",
       "      <td>40.758092</td>\n",
       "      <td>1</td>\n",
       "    </tr>\n",
       "    <tr>\n",
       "      <th>4</th>\n",
       "      <td>51:00.0</td>\n",
       "      <td>5.3</td>\n",
       "      <td>2010-03-09 07:51:00 UTC</td>\n",
       "      <td>-73.968095</td>\n",
       "      <td>40.768008</td>\n",
       "      <td>-73.956655</td>\n",
       "      <td>40.783762</td>\n",
       "      <td>1</td>\n",
       "    </tr>\n",
       "  </tbody>\n",
       "</table>\n",
       "</div>"
      ],
      "text/plain": [
       "  unique_id  amount      date_time_of_pickup  longitude_of_pickup  \\\n",
       "0   26:21.0     4.5  2009-06-15 17:26:21 UTC           -73.844311   \n",
       "1   52:16.0    16.9  2010-01-05 16:52:16 UTC           -74.016048   \n",
       "2   35:00.0     5.7  2011-08-18 00:35:00 UTC           -73.982738   \n",
       "3   30:42.0     7.7  2012-04-21 04:30:42 UTC           -73.987130   \n",
       "4   51:00.0     5.3  2010-03-09 07:51:00 UTC           -73.968095   \n",
       "\n",
       "   latitude_of_pickup  longitude_of_dropoff  latitude_of_dropoff  \\\n",
       "0           40.721319            -73.841610            40.712278   \n",
       "1           40.711303            -73.979268            40.782004   \n",
       "2           40.761270            -73.991242            40.750562   \n",
       "3           40.733143            -73.991567            40.758092   \n",
       "4           40.768008            -73.956655            40.783762   \n",
       "\n",
       "   no_of_passenger  \n",
       "0                1  \n",
       "1                1  \n",
       "2                2  \n",
       "3                1  \n",
       "4                1  "
      ]
     },
     "execution_count": 4,
     "metadata": {},
     "output_type": "execute_result"
    }
   ],
   "source": [
    "tf.head()"
   ]
  },
  {
   "cell_type": "code",
   "execution_count": 5,
   "id": "c24d5030",
   "metadata": {},
   "outputs": [
    {
     "data": {
      "text/html": [
       "<div>\n",
       "<style scoped>\n",
       "    .dataframe tbody tr th:only-of-type {\n",
       "        vertical-align: middle;\n",
       "    }\n",
       "\n",
       "    .dataframe tbody tr th {\n",
       "        vertical-align: top;\n",
       "    }\n",
       "\n",
       "    .dataframe thead th {\n",
       "        text-align: right;\n",
       "    }\n",
       "</style>\n",
       "<table border=\"1\" class=\"dataframe\">\n",
       "  <thead>\n",
       "    <tr style=\"text-align: right;\">\n",
       "      <th></th>\n",
       "      <th>unique_id</th>\n",
       "      <th>amount</th>\n",
       "      <th>date_time_of_pickup</th>\n",
       "      <th>longitude_of_pickup</th>\n",
       "      <th>latitude_of_pickup</th>\n",
       "      <th>longitude_of_dropoff</th>\n",
       "      <th>latitude_of_dropoff</th>\n",
       "      <th>no_of_passenger</th>\n",
       "    </tr>\n",
       "  </thead>\n",
       "  <tbody>\n",
       "    <tr>\n",
       "      <th>48500</th>\n",
       "      <td>39:00.0</td>\n",
       "      <td>18.50</td>\n",
       "      <td>2014-11-26 11:39:00 UTC</td>\n",
       "      <td>-73.988315</td>\n",
       "      <td>40.776445</td>\n",
       "      <td>-73.992480</td>\n",
       "      <td>40.748912</td>\n",
       "      <td>2</td>\n",
       "    </tr>\n",
       "    <tr>\n",
       "      <th>38427</th>\n",
       "      <td>12:00.0</td>\n",
       "      <td>7.30</td>\n",
       "      <td>2010-12-19 13:12:00 UTC</td>\n",
       "      <td>-73.978748</td>\n",
       "      <td>40.741040</td>\n",
       "      <td>-73.997328</td>\n",
       "      <td>40.724800</td>\n",
       "      <td>1</td>\n",
       "    </tr>\n",
       "    <tr>\n",
       "      <th>21590</th>\n",
       "      <td>36:00.0</td>\n",
       "      <td>9.30</td>\n",
       "      <td>2009-10-02 00:36:00 UTC</td>\n",
       "      <td>-73.985840</td>\n",
       "      <td>40.735115</td>\n",
       "      <td>-73.953365</td>\n",
       "      <td>40.771678</td>\n",
       "      <td>5</td>\n",
       "    </tr>\n",
       "    <tr>\n",
       "      <th>45617</th>\n",
       "      <td>47:00.0</td>\n",
       "      <td>10.50</td>\n",
       "      <td>2011-08-17 00:47:00 UTC</td>\n",
       "      <td>-73.957815</td>\n",
       "      <td>40.717767</td>\n",
       "      <td>-73.931303</td>\n",
       "      <td>40.703708</td>\n",
       "      <td>1</td>\n",
       "    </tr>\n",
       "    <tr>\n",
       "      <th>13868</th>\n",
       "      <td>16:43.0</td>\n",
       "      <td>11.00</td>\n",
       "      <td>2009-02-26 23:16:43 UTC</td>\n",
       "      <td>-73.987657</td>\n",
       "      <td>40.719783</td>\n",
       "      <td>-73.939767</td>\n",
       "      <td>40.699440</td>\n",
       "      <td>1</td>\n",
       "    </tr>\n",
       "    <tr>\n",
       "      <th>2976</th>\n",
       "      <td>24:23.0</td>\n",
       "      <td>7.30</td>\n",
       "      <td>2009-07-23 09:24:23 UTC</td>\n",
       "      <td>-73.980749</td>\n",
       "      <td>40.745682</td>\n",
       "      <td>-74.001443</td>\n",
       "      <td>40.740147</td>\n",
       "      <td>1</td>\n",
       "    </tr>\n",
       "    <tr>\n",
       "      <th>28597</th>\n",
       "      <td>16:00.0</td>\n",
       "      <td>13.70</td>\n",
       "      <td>2010-04-27 10:16:00 UTC</td>\n",
       "      <td>-73.989860</td>\n",
       "      <td>40.747135</td>\n",
       "      <td>-74.006713</td>\n",
       "      <td>40.704833</td>\n",
       "      <td>2</td>\n",
       "    </tr>\n",
       "    <tr>\n",
       "      <th>15951</th>\n",
       "      <td>25:35.0</td>\n",
       "      <td>4.90</td>\n",
       "      <td>2011-10-17 21:25:35 UTC</td>\n",
       "      <td>-73.988042</td>\n",
       "      <td>40.738148</td>\n",
       "      <td>-73.999791</td>\n",
       "      <td>40.726963</td>\n",
       "      <td>2</td>\n",
       "    </tr>\n",
       "    <tr>\n",
       "      <th>42894</th>\n",
       "      <td>50:00.0</td>\n",
       "      <td>30.27</td>\n",
       "      <td>2010-03-10 21:50:00 UTC</td>\n",
       "      <td>-73.862853</td>\n",
       "      <td>40.769118</td>\n",
       "      <td>-73.980760</td>\n",
       "      <td>40.779148</td>\n",
       "      <td>2</td>\n",
       "    </tr>\n",
       "    <tr>\n",
       "      <th>44371</th>\n",
       "      <td>28:50.0</td>\n",
       "      <td>14.50</td>\n",
       "      <td>2011-05-21 00:28:50 UTC</td>\n",
       "      <td>-73.968445</td>\n",
       "      <td>40.799395</td>\n",
       "      <td>-73.973398</td>\n",
       "      <td>40.748408</td>\n",
       "      <td>1</td>\n",
       "    </tr>\n",
       "  </tbody>\n",
       "</table>\n",
       "</div>"
      ],
      "text/plain": [
       "      unique_id  amount      date_time_of_pickup  longitude_of_pickup  \\\n",
       "48500   39:00.0   18.50  2014-11-26 11:39:00 UTC           -73.988315   \n",
       "38427   12:00.0    7.30  2010-12-19 13:12:00 UTC           -73.978748   \n",
       "21590   36:00.0    9.30  2009-10-02 00:36:00 UTC           -73.985840   \n",
       "45617   47:00.0   10.50  2011-08-17 00:47:00 UTC           -73.957815   \n",
       "13868   16:43.0   11.00  2009-02-26 23:16:43 UTC           -73.987657   \n",
       "2976    24:23.0    7.30  2009-07-23 09:24:23 UTC           -73.980749   \n",
       "28597   16:00.0   13.70  2010-04-27 10:16:00 UTC           -73.989860   \n",
       "15951   25:35.0    4.90  2011-10-17 21:25:35 UTC           -73.988042   \n",
       "42894   50:00.0   30.27  2010-03-10 21:50:00 UTC           -73.862853   \n",
       "44371   28:50.0   14.50  2011-05-21 00:28:50 UTC           -73.968445   \n",
       "\n",
       "       latitude_of_pickup  longitude_of_dropoff  latitude_of_dropoff  \\\n",
       "48500           40.776445            -73.992480            40.748912   \n",
       "38427           40.741040            -73.997328            40.724800   \n",
       "21590           40.735115            -73.953365            40.771678   \n",
       "45617           40.717767            -73.931303            40.703708   \n",
       "13868           40.719783            -73.939767            40.699440   \n",
       "2976            40.745682            -74.001443            40.740147   \n",
       "28597           40.747135            -74.006713            40.704833   \n",
       "15951           40.738148            -73.999791            40.726963   \n",
       "42894           40.769118            -73.980760            40.779148   \n",
       "44371           40.799395            -73.973398            40.748408   \n",
       "\n",
       "       no_of_passenger  \n",
       "48500                2  \n",
       "38427                1  \n",
       "21590                5  \n",
       "45617                1  \n",
       "13868                1  \n",
       "2976                 1  \n",
       "28597                2  \n",
       "15951                2  \n",
       "42894                2  \n",
       "44371                1  "
      ]
     },
     "execution_count": 5,
     "metadata": {},
     "output_type": "execute_result"
    }
   ],
   "source": [
    "tf.sample(10)"
   ]
  },
  {
   "cell_type": "code",
   "execution_count": 6,
   "id": "20cef5cc",
   "metadata": {},
   "outputs": [
    {
     "data": {
      "text/plain": [
       "(50000, 8)"
      ]
     },
     "execution_count": 6,
     "metadata": {},
     "output_type": "execute_result"
    }
   ],
   "source": [
    "tf.shape"
   ]
  },
  {
   "cell_type": "code",
   "execution_count": 7,
   "id": "11cc0dd9",
   "metadata": {},
   "outputs": [
    {
     "data": {
      "text/html": [
       "<div>\n",
       "<style scoped>\n",
       "    .dataframe tbody tr th:only-of-type {\n",
       "        vertical-align: middle;\n",
       "    }\n",
       "\n",
       "    .dataframe tbody tr th {\n",
       "        vertical-align: top;\n",
       "    }\n",
       "\n",
       "    .dataframe thead th {\n",
       "        text-align: right;\n",
       "    }\n",
       "</style>\n",
       "<table border=\"1\" class=\"dataframe\">\n",
       "  <thead>\n",
       "    <tr style=\"text-align: right;\">\n",
       "      <th></th>\n",
       "      <th>amount</th>\n",
       "      <th>longitude_of_pickup</th>\n",
       "      <th>latitude_of_pickup</th>\n",
       "      <th>longitude_of_dropoff</th>\n",
       "      <th>latitude_of_dropoff</th>\n",
       "      <th>no_of_passenger</th>\n",
       "    </tr>\n",
       "  </thead>\n",
       "  <tbody>\n",
       "    <tr>\n",
       "      <th>count</th>\n",
       "      <td>50000.000000</td>\n",
       "      <td>50000.000000</td>\n",
       "      <td>50000.000000</td>\n",
       "      <td>50000.000000</td>\n",
       "      <td>50000.000000</td>\n",
       "      <td>50000.000000</td>\n",
       "    </tr>\n",
       "    <tr>\n",
       "      <th>mean</th>\n",
       "      <td>11.364171</td>\n",
       "      <td>-72.509756</td>\n",
       "      <td>39.933759</td>\n",
       "      <td>-72.504616</td>\n",
       "      <td>39.926251</td>\n",
       "      <td>1.667840</td>\n",
       "    </tr>\n",
       "    <tr>\n",
       "      <th>std</th>\n",
       "      <td>9.685557</td>\n",
       "      <td>10.393860</td>\n",
       "      <td>6.224857</td>\n",
       "      <td>10.407570</td>\n",
       "      <td>6.014737</td>\n",
       "      <td>1.289195</td>\n",
       "    </tr>\n",
       "    <tr>\n",
       "      <th>min</th>\n",
       "      <td>-5.000000</td>\n",
       "      <td>-75.423848</td>\n",
       "      <td>-74.006893</td>\n",
       "      <td>-84.654241</td>\n",
       "      <td>-74.006377</td>\n",
       "      <td>0.000000</td>\n",
       "    </tr>\n",
       "    <tr>\n",
       "      <th>25%</th>\n",
       "      <td>6.000000</td>\n",
       "      <td>-73.992062</td>\n",
       "      <td>40.734880</td>\n",
       "      <td>-73.991152</td>\n",
       "      <td>40.734372</td>\n",
       "      <td>1.000000</td>\n",
       "    </tr>\n",
       "    <tr>\n",
       "      <th>50%</th>\n",
       "      <td>8.500000</td>\n",
       "      <td>-73.981840</td>\n",
       "      <td>40.752678</td>\n",
       "      <td>-73.980082</td>\n",
       "      <td>40.753372</td>\n",
       "      <td>1.000000</td>\n",
       "    </tr>\n",
       "    <tr>\n",
       "      <th>75%</th>\n",
       "      <td>12.500000</td>\n",
       "      <td>-73.967148</td>\n",
       "      <td>40.767360</td>\n",
       "      <td>-73.963584</td>\n",
       "      <td>40.768167</td>\n",
       "      <td>2.000000</td>\n",
       "    </tr>\n",
       "    <tr>\n",
       "      <th>max</th>\n",
       "      <td>200.000000</td>\n",
       "      <td>40.783472</td>\n",
       "      <td>401.083332</td>\n",
       "      <td>40.851027</td>\n",
       "      <td>43.415190</td>\n",
       "      <td>6.000000</td>\n",
       "    </tr>\n",
       "  </tbody>\n",
       "</table>\n",
       "</div>"
      ],
      "text/plain": [
       "             amount  longitude_of_pickup  latitude_of_pickup  \\\n",
       "count  50000.000000         50000.000000        50000.000000   \n",
       "mean      11.364171           -72.509756           39.933759   \n",
       "std        9.685557            10.393860            6.224857   \n",
       "min       -5.000000           -75.423848          -74.006893   \n",
       "25%        6.000000           -73.992062           40.734880   \n",
       "50%        8.500000           -73.981840           40.752678   \n",
       "75%       12.500000           -73.967148           40.767360   \n",
       "max      200.000000            40.783472          401.083332   \n",
       "\n",
       "       longitude_of_dropoff  latitude_of_dropoff  no_of_passenger  \n",
       "count          50000.000000         50000.000000     50000.000000  \n",
       "mean             -72.504616            39.926251         1.667840  \n",
       "std               10.407570             6.014737         1.289195  \n",
       "min              -84.654241           -74.006377         0.000000  \n",
       "25%              -73.991152            40.734372         1.000000  \n",
       "50%              -73.980082            40.753372         1.000000  \n",
       "75%              -73.963584            40.768167         2.000000  \n",
       "max               40.851027            43.415190         6.000000  "
      ]
     },
     "execution_count": 7,
     "metadata": {},
     "output_type": "execute_result"
    }
   ],
   "source": [
    "tf.describe()"
   ]
  },
  {
   "cell_type": "code",
   "execution_count": 8,
   "id": "70881c15",
   "metadata": {},
   "outputs": [
    {
     "name": "stdout",
     "output_type": "stream",
     "text": [
      "<class 'pandas.core.frame.DataFrame'>\n",
      "RangeIndex: 50000 entries, 0 to 49999\n",
      "Data columns (total 8 columns):\n",
      " #   Column                Non-Null Count  Dtype  \n",
      "---  ------                --------------  -----  \n",
      " 0   unique_id             50000 non-null  object \n",
      " 1   amount                50000 non-null  float64\n",
      " 2   date_time_of_pickup   50000 non-null  object \n",
      " 3   longitude_of_pickup   50000 non-null  float64\n",
      " 4   latitude_of_pickup    50000 non-null  float64\n",
      " 5   longitude_of_dropoff  50000 non-null  float64\n",
      " 6   latitude_of_dropoff   50000 non-null  float64\n",
      " 7   no_of_passenger       50000 non-null  int64  \n",
      "dtypes: float64(5), int64(1), object(2)\n",
      "memory usage: 3.1+ MB\n"
     ]
    }
   ],
   "source": [
    "tf.info()"
   ]
  },
  {
   "cell_type": "code",
   "execution_count": 9,
   "id": "2662652e",
   "metadata": {},
   "outputs": [],
   "source": [
    "tf=pd.get_dummies(tf,columns=[\"no_of_passenger\"])"
   ]
  },
  {
   "cell_type": "code",
   "execution_count": 10,
   "id": "ce10777a",
   "metadata": {},
   "outputs": [
    {
     "data": {
      "text/html": [
       "<div>\n",
       "<style scoped>\n",
       "    .dataframe tbody tr th:only-of-type {\n",
       "        vertical-align: middle;\n",
       "    }\n",
       "\n",
       "    .dataframe tbody tr th {\n",
       "        vertical-align: top;\n",
       "    }\n",
       "\n",
       "    .dataframe thead th {\n",
       "        text-align: right;\n",
       "    }\n",
       "</style>\n",
       "<table border=\"1\" class=\"dataframe\">\n",
       "  <thead>\n",
       "    <tr style=\"text-align: right;\">\n",
       "      <th></th>\n",
       "      <th>unique_id</th>\n",
       "      <th>amount</th>\n",
       "      <th>date_time_of_pickup</th>\n",
       "      <th>longitude_of_pickup</th>\n",
       "      <th>latitude_of_pickup</th>\n",
       "      <th>longitude_of_dropoff</th>\n",
       "      <th>latitude_of_dropoff</th>\n",
       "      <th>no_of_passenger_0</th>\n",
       "      <th>no_of_passenger_1</th>\n",
       "      <th>no_of_passenger_2</th>\n",
       "      <th>no_of_passenger_3</th>\n",
       "      <th>no_of_passenger_4</th>\n",
       "      <th>no_of_passenger_5</th>\n",
       "      <th>no_of_passenger_6</th>\n",
       "    </tr>\n",
       "  </thead>\n",
       "  <tbody>\n",
       "    <tr>\n",
       "      <th>19798</th>\n",
       "      <td>35:02.0</td>\n",
       "      <td>13.5</td>\n",
       "      <td>2013-01-16 13:35:02 UTC</td>\n",
       "      <td>-73.981348</td>\n",
       "      <td>40.778958</td>\n",
       "      <td>-73.974521</td>\n",
       "      <td>40.750758</td>\n",
       "      <td>0</td>\n",
       "      <td>1</td>\n",
       "      <td>0</td>\n",
       "      <td>0</td>\n",
       "      <td>0</td>\n",
       "      <td>0</td>\n",
       "      <td>0</td>\n",
       "    </tr>\n",
       "    <tr>\n",
       "      <th>36585</th>\n",
       "      <td>21:44.0</td>\n",
       "      <td>8.9</td>\n",
       "      <td>2010-11-03 17:21:44 UTC</td>\n",
       "      <td>-73.981777</td>\n",
       "      <td>40.766203</td>\n",
       "      <td>-73.991142</td>\n",
       "      <td>40.745998</td>\n",
       "      <td>0</td>\n",
       "      <td>1</td>\n",
       "      <td>0</td>\n",
       "      <td>0</td>\n",
       "      <td>0</td>\n",
       "      <td>0</td>\n",
       "      <td>0</td>\n",
       "    </tr>\n",
       "    <tr>\n",
       "      <th>17169</th>\n",
       "      <td>37:53.0</td>\n",
       "      <td>6.0</td>\n",
       "      <td>2014-09-18 10:37:53 UTC</td>\n",
       "      <td>-73.955861</td>\n",
       "      <td>40.779111</td>\n",
       "      <td>-73.960609</td>\n",
       "      <td>40.772794</td>\n",
       "      <td>0</td>\n",
       "      <td>1</td>\n",
       "      <td>0</td>\n",
       "      <td>0</td>\n",
       "      <td>0</td>\n",
       "      <td>0</td>\n",
       "      <td>0</td>\n",
       "    </tr>\n",
       "    <tr>\n",
       "      <th>24334</th>\n",
       "      <td>13:29.0</td>\n",
       "      <td>5.0</td>\n",
       "      <td>2014-04-11 19:13:29 UTC</td>\n",
       "      <td>-74.001902</td>\n",
       "      <td>40.719356</td>\n",
       "      <td>-74.006034</td>\n",
       "      <td>40.707619</td>\n",
       "      <td>0</td>\n",
       "      <td>1</td>\n",
       "      <td>0</td>\n",
       "      <td>0</td>\n",
       "      <td>0</td>\n",
       "      <td>0</td>\n",
       "      <td>0</td>\n",
       "    </tr>\n",
       "    <tr>\n",
       "      <th>39094</th>\n",
       "      <td>43:53.0</td>\n",
       "      <td>10.5</td>\n",
       "      <td>2013-09-21 19:43:53 UTC</td>\n",
       "      <td>-74.008394</td>\n",
       "      <td>40.734957</td>\n",
       "      <td>-74.000024</td>\n",
       "      <td>40.761418</td>\n",
       "      <td>0</td>\n",
       "      <td>1</td>\n",
       "      <td>0</td>\n",
       "      <td>0</td>\n",
       "      <td>0</td>\n",
       "      <td>0</td>\n",
       "      <td>0</td>\n",
       "    </tr>\n",
       "    <tr>\n",
       "      <th>45971</th>\n",
       "      <td>48:00.0</td>\n",
       "      <td>7.3</td>\n",
       "      <td>2012-08-01 11:48:00 UTC</td>\n",
       "      <td>-73.978745</td>\n",
       "      <td>40.740902</td>\n",
       "      <td>-74.005542</td>\n",
       "      <td>40.726722</td>\n",
       "      <td>0</td>\n",
       "      <td>1</td>\n",
       "      <td>0</td>\n",
       "      <td>0</td>\n",
       "      <td>0</td>\n",
       "      <td>0</td>\n",
       "      <td>0</td>\n",
       "    </tr>\n",
       "    <tr>\n",
       "      <th>30425</th>\n",
       "      <td>26:26.0</td>\n",
       "      <td>11.3</td>\n",
       "      <td>2010-01-11 20:26:26 UTC</td>\n",
       "      <td>-73.947537</td>\n",
       "      <td>40.775458</td>\n",
       "      <td>-73.984875</td>\n",
       "      <td>40.757574</td>\n",
       "      <td>0</td>\n",
       "      <td>0</td>\n",
       "      <td>0</td>\n",
       "      <td>0</td>\n",
       "      <td>1</td>\n",
       "      <td>0</td>\n",
       "      <td>0</td>\n",
       "    </tr>\n",
       "    <tr>\n",
       "      <th>28475</th>\n",
       "      <td>28:00.0</td>\n",
       "      <td>5.0</td>\n",
       "      <td>2012-10-21 15:28:00 UTC</td>\n",
       "      <td>0.000000</td>\n",
       "      <td>0.000000</td>\n",
       "      <td>0.000000</td>\n",
       "      <td>0.000000</td>\n",
       "      <td>0</td>\n",
       "      <td>1</td>\n",
       "      <td>0</td>\n",
       "      <td>0</td>\n",
       "      <td>0</td>\n",
       "      <td>0</td>\n",
       "      <td>0</td>\n",
       "    </tr>\n",
       "    <tr>\n",
       "      <th>15690</th>\n",
       "      <td>06:31.0</td>\n",
       "      <td>6.5</td>\n",
       "      <td>2009-05-10 15:06:31 UTC</td>\n",
       "      <td>-73.965047</td>\n",
       "      <td>40.775506</td>\n",
       "      <td>-73.978234</td>\n",
       "      <td>40.762532</td>\n",
       "      <td>0</td>\n",
       "      <td>0</td>\n",
       "      <td>0</td>\n",
       "      <td>0</td>\n",
       "      <td>1</td>\n",
       "      <td>0</td>\n",
       "      <td>0</td>\n",
       "    </tr>\n",
       "    <tr>\n",
       "      <th>41526</th>\n",
       "      <td>54:46.0</td>\n",
       "      <td>4.5</td>\n",
       "      <td>2015-06-06 11:54:46 UTC</td>\n",
       "      <td>-73.993164</td>\n",
       "      <td>40.748096</td>\n",
       "      <td>-74.002686</td>\n",
       "      <td>40.748596</td>\n",
       "      <td>0</td>\n",
       "      <td>0</td>\n",
       "      <td>0</td>\n",
       "      <td>1</td>\n",
       "      <td>0</td>\n",
       "      <td>0</td>\n",
       "      <td>0</td>\n",
       "    </tr>\n",
       "  </tbody>\n",
       "</table>\n",
       "</div>"
      ],
      "text/plain": [
       "      unique_id  amount      date_time_of_pickup  longitude_of_pickup  \\\n",
       "19798   35:02.0    13.5  2013-01-16 13:35:02 UTC           -73.981348   \n",
       "36585   21:44.0     8.9  2010-11-03 17:21:44 UTC           -73.981777   \n",
       "17169   37:53.0     6.0  2014-09-18 10:37:53 UTC           -73.955861   \n",
       "24334   13:29.0     5.0  2014-04-11 19:13:29 UTC           -74.001902   \n",
       "39094   43:53.0    10.5  2013-09-21 19:43:53 UTC           -74.008394   \n",
       "45971   48:00.0     7.3  2012-08-01 11:48:00 UTC           -73.978745   \n",
       "30425   26:26.0    11.3  2010-01-11 20:26:26 UTC           -73.947537   \n",
       "28475   28:00.0     5.0  2012-10-21 15:28:00 UTC             0.000000   \n",
       "15690   06:31.0     6.5  2009-05-10 15:06:31 UTC           -73.965047   \n",
       "41526   54:46.0     4.5  2015-06-06 11:54:46 UTC           -73.993164   \n",
       "\n",
       "       latitude_of_pickup  longitude_of_dropoff  latitude_of_dropoff  \\\n",
       "19798           40.778958            -73.974521            40.750758   \n",
       "36585           40.766203            -73.991142            40.745998   \n",
       "17169           40.779111            -73.960609            40.772794   \n",
       "24334           40.719356            -74.006034            40.707619   \n",
       "39094           40.734957            -74.000024            40.761418   \n",
       "45971           40.740902            -74.005542            40.726722   \n",
       "30425           40.775458            -73.984875            40.757574   \n",
       "28475            0.000000              0.000000             0.000000   \n",
       "15690           40.775506            -73.978234            40.762532   \n",
       "41526           40.748096            -74.002686            40.748596   \n",
       "\n",
       "       no_of_passenger_0  no_of_passenger_1  no_of_passenger_2  \\\n",
       "19798                  0                  1                  0   \n",
       "36585                  0                  1                  0   \n",
       "17169                  0                  1                  0   \n",
       "24334                  0                  1                  0   \n",
       "39094                  0                  1                  0   \n",
       "45971                  0                  1                  0   \n",
       "30425                  0                  0                  0   \n",
       "28475                  0                  1                  0   \n",
       "15690                  0                  0                  0   \n",
       "41526                  0                  0                  0   \n",
       "\n",
       "       no_of_passenger_3  no_of_passenger_4  no_of_passenger_5  \\\n",
       "19798                  0                  0                  0   \n",
       "36585                  0                  0                  0   \n",
       "17169                  0                  0                  0   \n",
       "24334                  0                  0                  0   \n",
       "39094                  0                  0                  0   \n",
       "45971                  0                  0                  0   \n",
       "30425                  0                  1                  0   \n",
       "28475                  0                  0                  0   \n",
       "15690                  0                  1                  0   \n",
       "41526                  1                  0                  0   \n",
       "\n",
       "       no_of_passenger_6  \n",
       "19798                  0  \n",
       "36585                  0  \n",
       "17169                  0  \n",
       "24334                  0  \n",
       "39094                  0  \n",
       "45971                  0  \n",
       "30425                  0  \n",
       "28475                  0  \n",
       "15690                  0  \n",
       "41526                  0  "
      ]
     },
     "execution_count": 10,
     "metadata": {},
     "output_type": "execute_result"
    }
   ],
   "source": [
    "tf.sample(10)"
   ]
  },
  {
   "cell_type": "code",
   "execution_count": null,
   "id": "80b6d213",
   "metadata": {},
   "outputs": [],
   "source": []
  },
  {
   "cell_type": "code",
   "execution_count": 11,
   "id": "b1eb20fd",
   "metadata": {},
   "outputs": [
    {
     "data": {
      "text/plain": [
       "unique_id               0\n",
       "amount                  0\n",
       "date_time_of_pickup     0\n",
       "longitude_of_pickup     0\n",
       "latitude_of_pickup      0\n",
       "longitude_of_dropoff    0\n",
       "latitude_of_dropoff     0\n",
       "no_of_passenger_0       0\n",
       "no_of_passenger_1       0\n",
       "no_of_passenger_2       0\n",
       "no_of_passenger_3       0\n",
       "no_of_passenger_4       0\n",
       "no_of_passenger_5       0\n",
       "no_of_passenger_6       0\n",
       "dtype: int64"
      ]
     },
     "execution_count": 11,
     "metadata": {},
     "output_type": "execute_result"
    }
   ],
   "source": [
    "tf.isnull().sum()"
   ]
  },
  {
   "cell_type": "code",
   "execution_count": 12,
   "id": "a2d6d9e2",
   "metadata": {},
   "outputs": [
    {
     "data": {
      "text/plain": [
       "unique_id                object\n",
       "amount                  float64\n",
       "date_time_of_pickup      object\n",
       "longitude_of_pickup     float64\n",
       "latitude_of_pickup      float64\n",
       "longitude_of_dropoff    float64\n",
       "latitude_of_dropoff     float64\n",
       "no_of_passenger_0         uint8\n",
       "no_of_passenger_1         uint8\n",
       "no_of_passenger_2         uint8\n",
       "no_of_passenger_3         uint8\n",
       "no_of_passenger_4         uint8\n",
       "no_of_passenger_5         uint8\n",
       "no_of_passenger_6         uint8\n",
       "dtype: object"
      ]
     },
     "execution_count": 12,
     "metadata": {},
     "output_type": "execute_result"
    }
   ],
   "source": [
    "tf.dtypes"
   ]
  },
  {
   "cell_type": "code",
   "execution_count": 13,
   "id": "5fcd640d",
   "metadata": {},
   "outputs": [],
   "source": [
    "tf=tf.drop([\"unique_id\",\"date_time_of_pickup\"],axis=1)"
   ]
  },
  {
   "cell_type": "code",
   "execution_count": 14,
   "id": "7898c270",
   "metadata": {
    "scrolled": true
   },
   "outputs": [
    {
     "data": {
      "text/plain": [
       "amount                  float64\n",
       "longitude_of_pickup     float64\n",
       "latitude_of_pickup      float64\n",
       "longitude_of_dropoff    float64\n",
       "latitude_of_dropoff     float64\n",
       "no_of_passenger_0         uint8\n",
       "no_of_passenger_1         uint8\n",
       "no_of_passenger_2         uint8\n",
       "no_of_passenger_3         uint8\n",
       "no_of_passenger_4         uint8\n",
       "no_of_passenger_5         uint8\n",
       "no_of_passenger_6         uint8\n",
       "dtype: object"
      ]
     },
     "execution_count": 14,
     "metadata": {},
     "output_type": "execute_result"
    }
   ],
   "source": [
    "tf.dtypes"
   ]
  },
  {
   "cell_type": "code",
   "execution_count": 15,
   "id": "a4e0dad5",
   "metadata": {},
   "outputs": [
    {
     "data": {
      "image/png": "[encoded data removed]",
      "text/plain": [
       "<Figure size 640x480 with 1 Axes>"
      ]
     },
     "metadata": {},
     "output_type": "display_data"
    }
   ],
   "source": [
    "tf.boxplot(column=\"amount\")\n",
    "plt.show()"
   ]
  },
  {
   "cell_type": "code",
   "execution_count": 16,
   "id": "8b24e378",
   "metadata": {},
   "outputs": [
    {
     "data": {
      "image/png": "[encoded data removed]",
      "text/plain": [
       "<Figure size 640x480 with 1 Axes>"
      ]
     },
     "metadata": {},
     "output_type": "display_data"
    }
   ],
   "source": [
    "tf.boxplot(column=\"longitude_of_pickup\")\n",
    "plt.show()"
   ]
  },
  {
   "cell_type": "code",
   "execution_count": 17,
   "id": "d43d410d",
   "metadata": {},
   "outputs": [
    {
     "data": {
      "image/png": "[encoded data removed]",
      "text/plain": [
       "<Figure size 640x480 with 1 Axes>"
      ]
     },
     "metadata": {},
     "output_type": "display_data"
    }
   ],
   "source": [
    "tf.boxplot(column=\"latitude_of_pickup\")\n",
    "plt.show()"
   ]
  },
  {
   "cell_type": "code",
   "execution_count": 18,
   "id": "09a4b69d",
   "metadata": {},
   "outputs": [
    {
     "data": {
      "image/png": "[encoded data removed]",
      "text/plain": [
       "<Figure size 640x480 with 1 Axes>"
      ]
     },
     "metadata": {},
     "output_type": "display_data"
    }
   ],
   "source": [
    "tf.boxplot(column=\"longitude_of_dropoff\")\n",
    "plt.show()"
   ]
  },
  {
   "cell_type": "code",
   "execution_count": 19,
   "id": "d5afd0f4",
   "metadata": {
    "scrolled": true
   },
   "outputs": [
    {
     "data": {
      "image/png": "[encoded data removed]",
      "text/plain": [
       "<Figure size 640x480 with 1 Axes>"
      ]
     },
     "metadata": {},
     "output_type": "display_data"
    }
   ],
   "source": [
    "tf.boxplot(column=\"latitude_of_dropoff\")\n",
    "plt.show()"
   ]
  },
  {
   "cell_type": "code",
   "execution_count": 20,
   "id": "0e3c07f8",
   "metadata": {
    "scrolled": true
   },
   "outputs": [
    {
     "data": {
      "image/png": "[encoded data removed]",
      "text/plain": [
       "<Figure size 640x480 with 1 Axes>"
      ]
     },
     "metadata": {},
     "output_type": "display_data"
    }
   ],
   "source": [
    "tf.boxplot(column=\"no_of_passenger_0\")\n",
    "plt.show()"
   ]
  },
  {
   "cell_type": "code",
   "execution_count": 21,
   "id": "576d6de7",
   "metadata": {
    "scrolled": true
   },
   "outputs": [
    {
     "data": {
      "image/png": "[encoded data removed]",
      "text/plain": [
       "<Figure size 640x480 with 1 Axes>"
      ]
     },
     "metadata": {},
     "output_type": "display_data"
    }
   ],
   "source": [
    "tf.boxplot(column=\"no_of_passenger_1\")\n",
    "plt.show()"
   ]
  },
  {
   "cell_type": "code",
   "execution_count": 22,
   "id": "b4d83a8d",
   "metadata": {
    "scrolled": true
   },
   "outputs": [
    {
     "data": {
      "image/png": "[encoded data removed]",
      "text/plain": [
       "<Figure size 640x480 with 1 Axes>"
      ]
     },
     "metadata": {},
     "output_type": "display_data"
    }
   ],
   "source": [
    "tf.boxplot(column=\"no_of_passenger_2\")\n",
    "plt.show()"
   ]
  },
  {
   "cell_type": "code",
   "execution_count": 23,
   "id": "c7371748",
   "metadata": {
    "scrolled": true
   },
   "outputs": [
    {
     "data": {
      "image/png": "[encoded data removed]",
      "text/plain": [
       "<Figure size 640x480 with 1 Axes>"
      ]
     },
     "metadata": {},
     "output_type": "display_data"
    }
   ],
   "source": [
    "tf.boxplot(column=\"no_of_passenger_3\")\n",
    "plt.show()"
   ]
  },
  {
   "cell_type": "code",
   "execution_count": 24,
   "id": "593eb9fd",
   "metadata": {
    "scrolled": true
   },
   "outputs": [
    {
     "data": {
      "image/png": "[encoded data removed]",
      "text/plain": [
       "<Figure size 640x480 with 1 Axes>"
      ]
     },
     "metadata": {},
     "output_type": "display_data"
    }
   ],
   "source": [
    "tf.boxplot(column=\"no_of_passenger_4\")\n",
    "plt.show()"
   ]
  },
  {
   "cell_type": "code",
   "execution_count": 25,
   "id": "da5eb35c",
   "metadata": {
    "scrolled": true
   },
   "outputs": [
    {
     "data": {
      "image/png": "[encoded data removed]",
      "text/plain": [
       "<Figure size 640x480 with 1 Axes>"
      ]
     },
     "metadata": {},
     "output_type": "display_data"
    }
   ],
   "source": [
    "tf.boxplot(column=\"no_of_passenger_5\")\n",
    "plt.show()"
   ]
  },
  {
   "cell_type": "code",
   "execution_count": 26,
   "id": "98328a0f",
   "metadata": {
    "scrolled": true
   },
   "outputs": [
    {
     "data": {
      "image/png": "[encoded data removed]",
      "text/plain": [
       "<Figure size 640x480 with 1 Axes>"
      ]
     },
     "metadata": {},
     "output_type": "display_data"
    }
   ],
   "source": [
    "tf.boxplot(column=\"no_of_passenger_6\")\n",
    "plt.show()"
   ]
  },
  {
   "cell_type": "code",
   "execution_count": 27,
   "id": "0ef1e2ad",
   "metadata": {},
   "outputs": [],
   "source": [
    "def rem_out(c):\n",
    "    sorted(c)\n",
    "    q1,q3=c.quantile([0.25,0.75])\n",
    "    IQR=q3-q1\n",
    "    lr=q1-(1.5*IQR)\n",
    "    ur=q3+(1.5*IQR)\n",
    "    return lr,ur"
   ]
  },
  {
   "cell_type": "code",
   "execution_count": 28,
   "id": "702ca2e7",
   "metadata": {},
   "outputs": [],
   "source": [
    "l,u=rem_out(tf['amount'])\n",
    "tf['amount']=np.where(tf['amount']>u,u,tf['amount'])\n",
    "tf['amount']=np.where(tf['amount']<l,l,tf['amount'])"
   ]
  },
  {
   "cell_type": "code",
   "execution_count": 29,
   "id": "c07c882c",
   "metadata": {},
   "outputs": [],
   "source": [
    "l,u=rem_out(tf['longitude_of_dropoff'])\n",
    "tf['longitude_of_dropoff']=np.where(tf['longitude_of_dropoff']>u,u,tf['longitude_of_dropoff'])\n",
    "tf['longitude_of_dropoff']=np.where(tf['longitude_of_dropoff']<l,l,tf['longitude_of_dropoff'])"
   ]
  },
  {
   "cell_type": "code",
   "execution_count": null,
   "id": "1825e88d",
   "metadata": {},
   "outputs": [],
   "source": []
  },
  {
   "cell_type": "code",
   "execution_count": 30,
   "id": "998870d2",
   "metadata": {},
   "outputs": [],
   "source": [
    "l,u=rem_out(tf['latitude_of_pickup'])\n",
    "tf['latitude_of_pickup']=np.where(tf['latitude_of_pickup']>u,u,tf['latitude_of_pickup'])\n",
    "tf['latitude_of_pickup']=np.where(tf['latitude_of_pickup']<l,l,tf['latitude_of_pickup'])"
   ]
  },
  {
   "cell_type": "code",
   "execution_count": 31,
   "id": "63798a75",
   "metadata": {},
   "outputs": [],
   "source": [
    "l,u=rem_out(tf['longitude_of_pickup'])\n",
    "tf['longitude_of_pickup']=np.where(tf['longitude_of_pickup']>u,u,tf['longitude_of_pickup'])\n",
    "tf['longitude_of_pickup']=np.where(tf['longitude_of_pickup']<l,l,tf['longitude_of_pickup'])"
   ]
  },
  {
   "cell_type": "code",
   "execution_count": 32,
   "id": "c63ea55d",
   "metadata": {},
   "outputs": [],
   "source": [
    "l,u=rem_out(tf['latitude_of_dropoff'])\n",
    "tf['latitude_of_dropoff']=np.where(tf['latitude_of_dropoff']>u,u,tf['latitude_of_dropoff'])\n",
    "tf['latitude_of_dropoff']=np.where(tf['latitude_of_dropoff']<l,l,tf['latitude_of_dropoff'])"
   ]
  },
  {
   "cell_type": "code",
   "execution_count": 33,
   "id": "6e83f728",
   "metadata": {},
   "outputs": [],
   "source": [
    "l,u=rem_out(tf['no_of_passenger_0'])\n",
    "tf['no_of_passenger_0']=np.where(tf['no_of_passenger_0']>u,u,tf['no_of_passenger_0'])\n",
    "tf['no_of_passenger_0']=np.where(tf['no_of_passenger_0']<l,l,tf['no_of_passenger_0'])"
   ]
  },
  {
   "cell_type": "code",
   "execution_count": 34,
   "id": "5a0cb50b",
   "metadata": {},
   "outputs": [],
   "source": [
    "l,u=rem_out(tf['no_of_passenger_1'])\n",
    "tf['no_of_passenger_1']=np.where(tf['no_of_passenger_1']>u,u,tf['no_of_passenger_1'])\n",
    "tf['no_of_passenger_1']=np.where(tf['no_of_passenger_1']<l,l,tf['no_of_passenger_1'])"
   ]
  },
  {
   "cell_type": "code",
   "execution_count": 35,
   "id": "43aa5a3f",
   "metadata": {},
   "outputs": [],
   "source": [
    "l,u=rem_out(tf['no_of_passenger_2'])\n",
    "tf['no_of_passenger_2']=np.where(tf['no_of_passenger_2']>u,u,tf['no_of_passenger_2'])\n",
    "tf['no_of_passenger_2']=np.where(tf['no_of_passenger_2']<l,l,tf['no_of_passenger_2'])"
   ]
  },
  {
   "cell_type": "code",
   "execution_count": 36,
   "id": "91827038",
   "metadata": {},
   "outputs": [],
   "source": [
    "l,u=rem_out(tf['no_of_passenger_3'])\n",
    "tf['no_of_passenger_3']=np.where(tf['no_of_passenger_3']>u,u,tf['no_of_passenger_3'])\n",
    "tf['no_of_passenger_3']=np.where(tf['no_of_passenger_3']<l,l,tf['no_of_passenger_3'])"
   ]
  },
  {
   "cell_type": "code",
   "execution_count": 37,
   "id": "8427b6f6",
   "metadata": {},
   "outputs": [],
   "source": [
    "l,u=rem_out(tf['no_of_passenger_4'])\n",
    "tf['no_of_passenger_4']=np.where(tf['no_of_passenger_4']>u,u,tf['no_of_passenger_4'])\n",
    "tf['no_of_passenger_4']=np.where(tf['no_of_passenger_4']<l,l,tf['no_of_passenger_4'])"
   ]
  },
  {
   "cell_type": "code",
   "execution_count": 38,
   "id": "65a77c01",
   "metadata": {},
   "outputs": [],
   "source": [
    "l,u=rem_out(tf['no_of_passenger_5'])\n",
    "tf['no_of_passenger_5']=np.where(tf['no_of_passenger_5']>u,u,tf['no_of_passenger_5'])\n",
    "tf['no_of_passenger_5']=np.where(tf['no_of_passenger_5']<l,l,tf['no_of_passenger_5'])"
   ]
  },
  {
   "cell_type": "code",
   "execution_count": 39,
   "id": "a833fab6",
   "metadata": {},
   "outputs": [],
   "source": [
    "l,u=rem_out(tf['no_of_passenger_6'])\n",
    "tf['no_of_passenger_6']=np.where(tf['no_of_passenger_6']>u,u,tf['no_of_passenger_6'])\n",
    "tf['no_of_passenger_6']=np.where(tf['no_of_passenger_6']<l,l,tf['no_of_passenger_6'])"
   ]
  },
  {
   "cell_type": "code",
   "execution_count": 40,
   "id": "60d54cf6",
   "metadata": {
    "scrolled": true
   },
   "outputs": [
    {
     "data": {
      "image/png": "[encoded data removed]",
      "text/plain": [
       "<Figure size 640x480 with 1 Axes>"
      ]
     },
     "metadata": {},
     "output_type": "display_data"
    }
   ],
   "source": [
    "tf.boxplot(column=\"amount\")\n",
    "plt.show()"
   ]
  },
  {
   "cell_type": "code",
   "execution_count": 41,
   "id": "ab11e2f9",
   "metadata": {
    "scrolled": true
   },
   "outputs": [
    {
     "data": {
      "image/png": "[encoded data removed]",
      "text/plain": [
       "<Figure size 640x480 with 1 Axes>"
      ]
     },
     "metadata": {},
     "output_type": "display_data"
    }
   ],
   "source": [
    "tf.boxplot(column=\"longitude_of_pickup\")\n",
    "plt.show()"
   ]
  },
  {
   "cell_type": "code",
   "execution_count": 42,
   "id": "82226cb4",
   "metadata": {
    "scrolled": true
   },
   "outputs": [
    {
     "data": {
      "image/png": "[encoded data removed]",
      "text/plain": [
       "<Figure size 640x480 with 1 Axes>"
      ]
     },
     "metadata": {},
     "output_type": "display_data"
    }
   ],
   "source": [
    "tf.boxplot(column=\"latitude_of_pickup\")\n",
    "plt.show()"
   ]
  },
  {
   "cell_type": "code",
   "execution_count": 43,
   "id": "419f6af5",
   "metadata": {
    "scrolled": true
   },
   "outputs": [
    {
     "data": {
      "image/png": "[encoded data removed]",
      "text/plain": [
       "<Figure size 640x480 with 1 Axes>"
      ]
     },
     "metadata": {},
     "output_type": "display_data"
    }
   ],
   "source": [
    "tf.boxplot(column=\"longitude_of_dropoff\")\n",
    "plt.show()"
   ]
  },
  {
   "cell_type": "code",
   "execution_count": 44,
   "id": "15440e28",
   "metadata": {},
   "outputs": [
    {
     "data": {
      "image/png": "[encoded data removed]",
      "text/plain": [
       "<Figure size 640x480 with 1 Axes>"
      ]
     },
     "metadata": {},
     "output_type": "display_data"
    }
   ],
   "source": [
    "tf.boxplot(column=\"latitude_of_dropoff\")\n",
    "plt.show()"
   ]
  },
  {
   "cell_type": "code",
   "execution_count": 45,
   "id": "ee18a99b",
   "metadata": {
    "scrolled": true
   },
   "outputs": [
    {
     "data": {
      "image/png": "[encoded data removed]",
      "text/plain": [
       "<Figure size 640x480 with 1 Axes>"
      ]
     },
     "metadata": {},
     "output_type": "display_data"
    }
   ],
   "source": [
    "tf.boxplot(column=\"no_of_passenger_0\")\n",
    "plt.show()"
   ]
  },
  {
   "cell_type": "code",
   "execution_count": 46,
   "id": "56113870",
   "metadata": {
    "scrolled": true
   },
   "outputs": [
    {
     "data": {
      "image/png": "[encoded data removed]",
      "text/plain": [
       "<Figure size 640x480 with 1 Axes>"
      ]
     },
     "metadata": {},
     "output_type": "display_data"
    }
   ],
   "source": [
    "tf.boxplot(column=\"no_of_passenger_1\")\n",
    "plt.show()"
   ]
  },
  {
   "cell_type": "code",
   "execution_count": 47,
   "id": "a3dc3170",
   "metadata": {
    "scrolled": true
   },
   "outputs": [
    {
     "data": {
      "image/png": "[encoded data removed]",
      "text/plain": [
       "<Figure size 640x480 with 1 Axes>"
      ]
     },
     "metadata": {},
     "output_type": "display_data"
    }
   ],
   "source": [
    "tf.boxplot(column=\"no_of_passenger_2\")\n",
    "plt.show()"
   ]
  },
  {
   "cell_type": "code",
   "execution_count": 48,
   "id": "f661fbb7",
   "metadata": {
    "scrolled": true
   },
   "outputs": [
    {
     "data": {
      "image/png": "[encoded data removed]",
      "text/plain": [
       "<Figure size 640x480 with 1 Axes>"
      ]
     },
     "metadata": {},
     "output_type": "display_data"
    }
   ],
   "source": [
    "tf.boxplot(column=\"no_of_passenger_3\")\n",
    "plt.show()"
   ]
  },
  {
   "cell_type": "code",
   "execution_count": 49,
   "id": "d09ff91f",
   "metadata": {
    "scrolled": true
   },
   "outputs": [
    {
     "data": {
      "image/png": "[encoded data removed]",
      "text/plain": [
       "<Figure size 640x480 with 1 Axes>"
      ]
     },
     "metadata": {},
     "output_type": "display_data"
    }
   ],
   "source": [
    "tf.boxplot(column=\"no_of_passenger_4\")\n",
    "plt.show()"
   ]
  },
  {
   "cell_type": "code",
   "execution_count": 50,
   "id": "dd9d2a3b",
   "metadata": {
    "scrolled": true
   },
   "outputs": [
    {
     "data": {
      "image/png": "[encoded data removed]",
      "text/plain": [
       "<Figure size 640x480 with 1 Axes>"
      ]
     },
     "metadata": {},
     "output_type": "display_data"
    }
   ],
   "source": [
    "tf.boxplot(column=\"no_of_passenger_5\")\n",
    "plt.show()"
   ]
  },
  {
   "cell_type": "code",
   "execution_count": 51,
   "id": "cd45ce1f",
   "metadata": {
    "scrolled": true
   },
   "outputs": [
    {
     "data": {
      "image/png": "[encoded data removed]",
      "text/plain": [
       "<Figure size 640x480 with 1 Axes>"
      ]
     },
     "metadata": {},
     "output_type": "display_data"
    }
   ],
   "source": [
    "tf.boxplot(column=\"no_of_passenger_6\")\n",
    "plt.show()"
   ]
  },
  {
   "cell_type": "code",
   "execution_count": 52,
   "id": "aa7b031a",
   "metadata": {},
   "outputs": [],
   "source": [
    "# sns.pairplot(tf,diag_kind=\"kde\")"
   ]
  },
  {
   "cell_type": "code",
   "execution_count": 53,
   "id": "531d7c6f",
   "metadata": {
    "scrolled": true
   },
   "outputs": [
    {
     "data": {
      "text/plain": [
       "930"
      ]
     },
     "execution_count": 53,
     "metadata": {},
     "output_type": "execute_result"
    }
   ],
   "source": [
    "dup=tf.duplicated()\n",
    "dup.sum()"
   ]
  },
  {
   "cell_type": "code",
   "execution_count": 54,
   "id": "f46fd13f",
   "metadata": {},
   "outputs": [],
   "source": [
    "tf.drop_duplicates(inplace=True)"
   ]
  },
  {
   "cell_type": "code",
   "execution_count": 55,
   "id": "895ba3e1",
   "metadata": {},
   "outputs": [
    {
     "data": {
      "text/plain": [
       "0"
      ]
     },
     "execution_count": 55,
     "metadata": {},
     "output_type": "execute_result"
    }
   ],
   "source": [
    "dup=tf.duplicated()\n",
    "dup.sum()"
   ]
  },
  {
   "cell_type": "code",
   "execution_count": 56,
   "id": "6ff7ccc6",
   "metadata": {},
   "outputs": [
    {
     "data": {
      "text/html": [
       "<div>\n",
       "<style scoped>\n",
       "    .dataframe tbody tr th:only-of-type {\n",
       "        vertical-align: middle;\n",
       "    }\n",
       "\n",
       "    .dataframe tbody tr th {\n",
       "        vertical-align: top;\n",
       "    }\n",
       "\n",
       "    .dataframe thead th {\n",
       "        text-align: right;\n",
       "    }\n",
       "</style>\n",
       "<table border=\"1\" class=\"dataframe\">\n",
       "  <thead>\n",
       "    <tr style=\"text-align: right;\">\n",
       "      <th></th>\n",
       "      <th>amount</th>\n",
       "      <th>longitude_of_pickup</th>\n",
       "      <th>latitude_of_pickup</th>\n",
       "      <th>longitude_of_dropoff</th>\n",
       "      <th>latitude_of_dropoff</th>\n",
       "      <th>no_of_passenger_0</th>\n",
       "      <th>no_of_passenger_1</th>\n",
       "      <th>no_of_passenger_2</th>\n",
       "      <th>no_of_passenger_3</th>\n",
       "      <th>no_of_passenger_4</th>\n",
       "      <th>no_of_passenger_5</th>\n",
       "      <th>no_of_passenger_6</th>\n",
       "    </tr>\n",
       "  </thead>\n",
       "  <tbody>\n",
       "    <tr>\n",
       "      <th>amount</th>\n",
       "      <td>1.000000</td>\n",
       "      <td>0.152914</td>\n",
       "      <td>-0.117681</td>\n",
       "      <td>0.236080</td>\n",
       "      <td>-0.125036</td>\n",
       "      <td>NaN</td>\n",
       "      <td>-0.022629</td>\n",
       "      <td>NaN</td>\n",
       "      <td>NaN</td>\n",
       "      <td>NaN</td>\n",
       "      <td>NaN</td>\n",
       "      <td>NaN</td>\n",
       "    </tr>\n",
       "    <tr>\n",
       "      <th>longitude_of_pickup</th>\n",
       "      <td>0.152914</td>\n",
       "      <td>1.000000</td>\n",
       "      <td>0.423854</td>\n",
       "      <td>0.352200</td>\n",
       "      <td>0.193125</td>\n",
       "      <td>NaN</td>\n",
       "      <td>0.006831</td>\n",
       "      <td>NaN</td>\n",
       "      <td>NaN</td>\n",
       "      <td>NaN</td>\n",
       "      <td>NaN</td>\n",
       "      <td>NaN</td>\n",
       "    </tr>\n",
       "    <tr>\n",
       "      <th>latitude_of_pickup</th>\n",
       "      <td>-0.117681</td>\n",
       "      <td>0.423854</td>\n",
       "      <td>1.000000</td>\n",
       "      <td>0.176093</td>\n",
       "      <td>0.456619</td>\n",
       "      <td>NaN</td>\n",
       "      <td>0.013792</td>\n",
       "      <td>NaN</td>\n",
       "      <td>NaN</td>\n",
       "      <td>NaN</td>\n",
       "      <td>NaN</td>\n",
       "      <td>NaN</td>\n",
       "    </tr>\n",
       "    <tr>\n",
       "      <th>longitude_of_dropoff</th>\n",
       "      <td>0.236080</td>\n",
       "      <td>0.352200</td>\n",
       "      <td>0.176093</td>\n",
       "      <td>1.000000</td>\n",
       "      <td>0.387670</td>\n",
       "      <td>NaN</td>\n",
       "      <td>0.004661</td>\n",
       "      <td>NaN</td>\n",
       "      <td>NaN</td>\n",
       "      <td>NaN</td>\n",
       "      <td>NaN</td>\n",
       "      <td>NaN</td>\n",
       "    </tr>\n",
       "    <tr>\n",
       "      <th>latitude_of_dropoff</th>\n",
       "      <td>-0.125036</td>\n",
       "      <td>0.193125</td>\n",
       "      <td>0.456619</td>\n",
       "      <td>0.387670</td>\n",
       "      <td>1.000000</td>\n",
       "      <td>NaN</td>\n",
       "      <td>0.008050</td>\n",
       "      <td>NaN</td>\n",
       "      <td>NaN</td>\n",
       "      <td>NaN</td>\n",
       "      <td>NaN</td>\n",
       "      <td>NaN</td>\n",
       "    </tr>\n",
       "    <tr>\n",
       "      <th>no_of_passenger_0</th>\n",
       "      <td>NaN</td>\n",
       "      <td>NaN</td>\n",
       "      <td>NaN</td>\n",
       "      <td>NaN</td>\n",
       "      <td>NaN</td>\n",
       "      <td>NaN</td>\n",
       "      <td>NaN</td>\n",
       "      <td>NaN</td>\n",
       "      <td>NaN</td>\n",
       "      <td>NaN</td>\n",
       "      <td>NaN</td>\n",
       "      <td>NaN</td>\n",
       "    </tr>\n",
       "    <tr>\n",
       "      <th>no_of_passenger_1</th>\n",
       "      <td>-0.022629</td>\n",
       "      <td>0.006831</td>\n",
       "      <td>0.013792</td>\n",
       "      <td>0.004661</td>\n",
       "      <td>0.008050</td>\n",
       "      <td>NaN</td>\n",
       "      <td>1.000000</td>\n",
       "      <td>NaN</td>\n",
       "      <td>NaN</td>\n",
       "      <td>NaN</td>\n",
       "      <td>NaN</td>\n",
       "      <td>NaN</td>\n",
       "    </tr>\n",
       "    <tr>\n",
       "      <th>no_of_passenger_2</th>\n",
       "      <td>NaN</td>\n",
       "      <td>NaN</td>\n",
       "      <td>NaN</td>\n",
       "      <td>NaN</td>\n",
       "      <td>NaN</td>\n",
       "      <td>NaN</td>\n",
       "      <td>NaN</td>\n",
       "      <td>NaN</td>\n",
       "      <td>NaN</td>\n",
       "      <td>NaN</td>\n",
       "      <td>NaN</td>\n",
       "      <td>NaN</td>\n",
       "    </tr>\n",
       "    <tr>\n",
       "      <th>no_of_passenger_3</th>\n",
       "      <td>NaN</td>\n",
       "      <td>NaN</td>\n",
       "      <td>NaN</td>\n",
       "      <td>NaN</td>\n",
       "      <td>NaN</td>\n",
       "      <td>NaN</td>\n",
       "      <td>NaN</td>\n",
       "      <td>NaN</td>\n",
       "      <td>NaN</td>\n",
       "      <td>NaN</td>\n",
       "      <td>NaN</td>\n",
       "      <td>NaN</td>\n",
       "    </tr>\n",
       "    <tr>\n",
       "      <th>no_of_passenger_4</th>\n",
       "      <td>NaN</td>\n",
       "      <td>NaN</td>\n",
       "      <td>NaN</td>\n",
       "      <td>NaN</td>\n",
       "      <td>NaN</td>\n",
       "      <td>NaN</td>\n",
       "      <td>NaN</td>\n",
       "      <td>NaN</td>\n",
       "      <td>NaN</td>\n",
       "      <td>NaN</td>\n",
       "      <td>NaN</td>\n",
       "      <td>NaN</td>\n",
       "    </tr>\n",
       "    <tr>\n",
       "      <th>no_of_passenger_5</th>\n",
       "      <td>NaN</td>\n",
       "      <td>NaN</td>\n",
       "      <td>NaN</td>\n",
       "      <td>NaN</td>\n",
       "      <td>NaN</td>\n",
       "      <td>NaN</td>\n",
       "      <td>NaN</td>\n",
       "      <td>NaN</td>\n",
       "      <td>NaN</td>\n",
       "      <td>NaN</td>\n",
       "      <td>NaN</td>\n",
       "      <td>NaN</td>\n",
       "    </tr>\n",
       "    <tr>\n",
       "      <th>no_of_passenger_6</th>\n",
       "      <td>NaN</td>\n",
       "      <td>NaN</td>\n",
       "      <td>NaN</td>\n",
       "      <td>NaN</td>\n",
       "      <td>NaN</td>\n",
       "      <td>NaN</td>\n",
       "      <td>NaN</td>\n",
       "      <td>NaN</td>\n",
       "      <td>NaN</td>\n",
       "      <td>NaN</td>\n",
       "      <td>NaN</td>\n",
       "      <td>NaN</td>\n",
       "    </tr>\n",
       "  </tbody>\n",
       "</table>\n",
       "</div>"
      ],
      "text/plain": [
       "                        amount  longitude_of_pickup  latitude_of_pickup  \\\n",
       "amount                1.000000             0.152914           -0.117681   \n",
       "longitude_of_pickup   0.152914             1.000000            0.423854   \n",
       "latitude_of_pickup   -0.117681             0.423854            1.000000   \n",
       "longitude_of_dropoff  0.236080             0.352200            0.176093   \n",
       "latitude_of_dropoff  -0.125036             0.193125            0.456619   \n",
       "no_of_passenger_0          NaN                  NaN                 NaN   \n",
       "no_of_passenger_1    -0.022629             0.006831            0.013792   \n",
       "no_of_passenger_2          NaN                  NaN                 NaN   \n",
       "no_of_passenger_3          NaN                  NaN                 NaN   \n",
       "no_of_passenger_4          NaN                  NaN                 NaN   \n",
       "no_of_passenger_5          NaN                  NaN                 NaN   \n",
       "no_of_passenger_6          NaN                  NaN                 NaN   \n",
       "\n",
       "                      longitude_of_dropoff  latitude_of_dropoff  \\\n",
       "amount                            0.236080            -0.125036   \n",
       "longitude_of_pickup               0.352200             0.193125   \n",
       "latitude_of_pickup                0.176093             0.456619   \n",
       "longitude_of_dropoff              1.000000             0.387670   \n",
       "latitude_of_dropoff               0.387670             1.000000   \n",
       "no_of_passenger_0                      NaN                  NaN   \n",
       "no_of_passenger_1                 0.004661             0.008050   \n",
       "no_of_passenger_2                      NaN                  NaN   \n",
       "no_of_passenger_3                      NaN                  NaN   \n",
       "no_of_passenger_4                      NaN                  NaN   \n",
       "no_of_passenger_5                      NaN                  NaN   \n",
       "no_of_passenger_6                      NaN                  NaN   \n",
       "\n",
       "                      no_of_passenger_0  no_of_passenger_1  no_of_passenger_2  \\\n",
       "amount                              NaN          -0.022629                NaN   \n",
       "longitude_of_pickup                 NaN           0.006831                NaN   \n",
       "latitude_of_pickup                  NaN           0.013792                NaN   \n",
       "longitude_of_dropoff                NaN           0.004661                NaN   \n",
       "latitude_of_dropoff                 NaN           0.008050                NaN   \n",
       "no_of_passenger_0                   NaN                NaN                NaN   \n",
       "no_of_passenger_1                   NaN           1.000000                NaN   \n",
       "no_of_passenger_2                   NaN                NaN                NaN   \n",
       "no_of_passenger_3                   NaN                NaN                NaN   \n",
       "no_of_passenger_4                   NaN                NaN                NaN   \n",
       "no_of_passenger_5                   NaN                NaN                NaN   \n",
       "no_of_passenger_6                   NaN                NaN                NaN   \n",
       "\n",
       "                      no_of_passenger_3  no_of_passenger_4  no_of_passenger_5  \\\n",
       "amount                              NaN                NaN                NaN   \n",
       "longitude_of_pickup                 NaN                NaN                NaN   \n",
       "latitude_of_pickup                  NaN                NaN                NaN   \n",
       "longitude_of_dropoff                NaN                NaN                NaN   \n",
       "latitude_of_dropoff                 NaN                NaN                NaN   \n",
       "no_of_passenger_0                   NaN                NaN                NaN   \n",
       "no_of_passenger_1                   NaN                NaN                NaN   \n",
       "no_of_passenger_2                   NaN                NaN                NaN   \n",
       "no_of_passenger_3                   NaN                NaN                NaN   \n",
       "no_of_passenger_4                   NaN                NaN                NaN   \n",
       "no_of_passenger_5                   NaN                NaN                NaN   \n",
       "no_of_passenger_6                   NaN                NaN                NaN   \n",
       "\n",
       "                      no_of_passenger_6  \n",
       "amount                              NaN  \n",
       "longitude_of_pickup                 NaN  \n",
       "latitude_of_pickup                  NaN  \n",
       "longitude_of_dropoff                NaN  \n",
       "latitude_of_dropoff                 NaN  \n",
       "no_of_passenger_0                   NaN  \n",
       "no_of_passenger_1                   NaN  \n",
       "no_of_passenger_2                   NaN  \n",
       "no_of_passenger_3                   NaN  \n",
       "no_of_passenger_4                   NaN  \n",
       "no_of_passenger_5                   NaN  \n",
       "no_of_passenger_6                   NaN  "
      ]
     },
     "execution_count": 56,
     "metadata": {},
     "output_type": "execute_result"
    }
   ],
   "source": [
    "tf.corr()"
   ]
  },
  {
   "cell_type": "code",
   "execution_count": 57,
   "id": "fe84218c",
   "metadata": {},
   "outputs": [],
   "source": [
    "x=tf.drop(\"amount\",axis=1)\n",
    "y=tf[[\"amount\"]]"
   ]
  },
  {
   "cell_type": "code",
   "execution_count": 58,
   "id": "561e81bc",
   "metadata": {},
   "outputs": [],
   "source": [
    "x_train,x_test,y_train,y_test=train_test_split(x,y,test_size=0.30,random_state=1)"
   ]
  },
  {
   "cell_type": "code",
   "execution_count": 59,
   "id": "62325ac1",
   "metadata": {},
   "outputs": [],
   "source": [
    "project_model1=LinearRegression()"
   ]
  },
  {
   "cell_type": "code",
   "execution_count": 60,
   "id": "95e2d775",
   "metadata": {},
   "outputs": [
    {
     "data": {
      "text/plain": [
       "LinearRegression()"
      ]
     },
     "execution_count": 60,
     "metadata": {},
     "output_type": "execute_result"
    }
   ],
   "source": [
    "project_model1.fit(x_train,y_train)"
   ]
  },
  {
   "cell_type": "code",
   "execution_count": 61,
   "id": "87c8c605",
   "metadata": {},
   "outputs": [
    {
     "data": {
      "text/plain": [
       "0.1341393313229472"
      ]
     },
     "execution_count": 61,
     "metadata": {},
     "output_type": "execute_result"
    }
   ],
   "source": [
    "project_model1.score(x_train,y_train)"
   ]
  },
  {
   "cell_type": "code",
   "execution_count": 62,
   "id": "552a3057",
   "metadata": {},
   "outputs": [
    {
     "data": {
      "text/plain": [
       "0.1282260853983952"
      ]
     },
     "execution_count": 62,
     "metadata": {},
     "output_type": "execute_result"
    }
   ],
   "source": [
    "project_model1.score(x_test,y_test)"
   ]
  },
  {
   "cell_type": "code",
   "execution_count": 63,
   "id": "547802a5",
   "metadata": {},
   "outputs": [],
   "source": [
    "from sklearn.tree import DecisionTreeRegressor"
   ]
  },
  {
   "cell_type": "code",
   "execution_count": 64,
   "id": "7f534cff",
   "metadata": {},
   "outputs": [],
   "source": [
    "project_model2=DecisionTreeRegressor(max_depth=20,max_leaf_nodes=70,min_samples_leaf=80)"
   ]
  },
  {
   "cell_type": "code",
   "execution_count": 65,
   "id": "3ed35005",
   "metadata": {},
   "outputs": [
    {
     "data": {
      "text/plain": [
       "DecisionTreeRegressor(max_depth=20, max_leaf_nodes=70, min_samples_leaf=80)"
      ]
     },
     "execution_count": 65,
     "metadata": {},
     "output_type": "execute_result"
    }
   ],
   "source": [
    "project_model2.fit(x_train,y_train)"
   ]
  },
  {
   "cell_type": "code",
   "execution_count": 66,
   "id": "4cc298da",
   "metadata": {},
   "outputs": [
    {
     "data": {
      "text/plain": [
       "0.6789016723117733"
      ]
     },
     "execution_count": 66,
     "metadata": {},
     "output_type": "execute_result"
    }
   ],
   "source": [
    "project_model2.score(x_train,y_train)"
   ]
  },
  {
   "cell_type": "code",
   "execution_count": 67,
   "id": "d3bce73e",
   "metadata": {},
   "outputs": [
    {
     "data": {
      "text/plain": [
       "0.6679201422298031"
      ]
     },
     "execution_count": 67,
     "metadata": {},
     "output_type": "execute_result"
    }
   ],
   "source": [
    "project_model2.score(x_test,y_test)"
   ]
  },
  {
   "cell_type": "code",
   "execution_count": 68,
   "id": "54146e46",
   "metadata": {},
   "outputs": [],
   "source": [
    "from sklearn.ensemble import AdaBoostRegressor"
   ]
  },
  {
   "cell_type": "code",
   "execution_count": 69,
   "id": "d76ee188",
   "metadata": {},
   "outputs": [],
   "source": [
    "project_model3=AdaBoostRegressor(n_estimators=1)"
   ]
  },
  {
   "cell_type": "code",
   "execution_count": 70,
   "id": "bbefb115",
   "metadata": {},
   "outputs": [
    {
     "data": {
      "text/plain": [
       "AdaBoostRegressor(n_estimators=1)"
      ]
     },
     "execution_count": 70,
     "metadata": {},
     "output_type": "execute_result"
    }
   ],
   "source": [
    "project_model3.fit(x_train,y_train)"
   ]
  },
  {
   "cell_type": "code",
   "execution_count": 71,
   "id": "ac7c277c",
   "metadata": {},
   "outputs": [
    {
     "data": {
      "text/plain": [
       "0.37104648174051236"
      ]
     },
     "execution_count": 71,
     "metadata": {},
     "output_type": "execute_result"
    }
   ],
   "source": [
    "project_model3.score(x_train,y_train)"
   ]
  },
  {
   "cell_type": "code",
   "execution_count": 72,
   "id": "64e1815d",
   "metadata": {},
   "outputs": [
    {
     "data": {
      "text/plain": [
       "0.3572554543924823"
      ]
     },
     "execution_count": 72,
     "metadata": {},
     "output_type": "execute_result"
    }
   ],
   "source": [
    "project_model3.score(x_test,y_test)"
   ]
  },
  {
   "cell_type": "code",
   "execution_count": 73,
   "id": "bf4bedc9",
   "metadata": {},
   "outputs": [],
   "source": [
    "from sklearn.ensemble import GradientBoostingRegressor"
   ]
  },
  {
   "cell_type": "code",
   "execution_count": 74,
   "id": "f59a2065",
   "metadata": {},
   "outputs": [],
   "source": [
    "project_model4=GradientBoostingRegressor(n_estimators=80,max_depth=6)"
   ]
  },
  {
   "cell_type": "code",
   "execution_count": 75,
   "id": "75a0926c",
   "metadata": {},
   "outputs": [
    {
     "data": {
      "text/plain": [
       "GradientBoostingRegressor(max_depth=6, n_estimators=80)"
      ]
     },
     "execution_count": 75,
     "metadata": {},
     "output_type": "execute_result"
    }
   ],
   "source": [
    "project_model4.fit(x_train,y_train)"
   ]
  },
  {
   "cell_type": "code",
   "execution_count": 76,
   "id": "6ea71291",
   "metadata": {},
   "outputs": [
    {
     "data": {
      "text/plain": [
       "0.8009994449608194"
      ]
     },
     "execution_count": 76,
     "metadata": {},
     "output_type": "execute_result"
    }
   ],
   "source": [
    "project_model4.score(x_train,y_train)"
   ]
  },
  {
   "cell_type": "code",
   "execution_count": 77,
   "id": "f9ce899c",
   "metadata": {},
   "outputs": [
    {
     "data": {
      "text/plain": [
       "0.7581683599147016"
      ]
     },
     "execution_count": 77,
     "metadata": {},
     "output_type": "execute_result"
    }
   ],
   "source": [
    "project_model4.score(x_test,y_test)"
   ]
  },
  {
   "cell_type": "code",
   "execution_count": null,
   "id": "4d2fa9c7",
   "metadata": {},
   "outputs": [],
   "source": []
  },
  {
   "cell_type": "code",
   "execution_count": null,
   "id": "1e5b03ad",
   "metadata": {},
   "outputs": [],
   "source": []
  }
 ],
 "metadata": {
  "kernelspec": {
   "display_name": "Python 3 (ipykernel)",
   "language": "python",
   "name": "python3"
  },
  "language_info": {
   "codemirror_mode": {
    "name": "ipython",
    "version": 3
   },
   "file_extension": ".py",
   "mimetype": "text/x-python",
   "name": "python",
   "nbconvert_exporter": "python",
   "pygments_lexer": "ipython3",
   "version": "3.9.13"
  }
 },
 "nbformat": 4,
 "nbformat_minor": 5
}
